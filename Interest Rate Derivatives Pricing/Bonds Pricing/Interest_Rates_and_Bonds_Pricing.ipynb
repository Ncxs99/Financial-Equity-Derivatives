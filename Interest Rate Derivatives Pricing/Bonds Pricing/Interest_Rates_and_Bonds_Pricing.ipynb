{
 "cells": [
  {
   "cell_type": "code",
   "execution_count": 1,
   "id": "42644001",
   "metadata": {},
   "outputs": [],
   "source": [
    "import numpy as np\n",
    "from scipy.stats import norm"
   ]
  },
  {
   "cell_type": "code",
   "execution_count": 2,
   "id": "6939ee37",
   "metadata": {},
   "outputs": [],
   "source": [
    "def Binary_Call(S_t,K,T,r,sigma,D):\n",
    "    \n",
    "    d1 = (np.log(S_t / K) + ((r - D) + (np.power(sigma,2)/ 2) * T )) / (sigma * np.sqrt(T))  \n",
    "    d2 = (np.log(S_t / K) + ((r - D) - (np.power(sigma,2)/ 2) * T )) / (sigma * np.sqrt(T))\n",
    "    \n",
    "    \n",
    "    return np.exp(-r * T) * norm.cdf(d2)"
   ]
  },
  {
   "cell_type": "code",
   "execution_count": 3,
   "id": "440d721c",
   "metadata": {},
   "outputs": [],
   "source": [
    "def Binary_Put(S_t,K,T,r,sigma,D):\n",
    "    \n",
    "    d1 = (np.log(S_t / K) + ((r - D) + (np.power(sigma,2)/ 2) * T )) / (sigma * np.sqrt(T))  \n",
    "    d2 = (np.log(S_t / K) + ((r - D) - (np.power(sigma,2)/ 2) * T )) / (sigma * np.sqrt(T))\n",
    "    \n",
    "    return np.exp(-r * T) * norm.cdf(-d2)"
   ]
  },
  {
   "cell_type": "code",
   "execution_count": 4,
   "id": "5b5d752f",
   "metadata": {},
   "outputs": [],
   "source": [
    "def Regular_Bin_DIC(S_t,K,T,r,sigma,D,B):\n",
    "    \n",
    "    d1 = (np.log(B /((K * S_t)/B)) + ((r - D) + (np.power(sigma,2)/ 2) * T )) / (sigma * np.sqrt(T))\n",
    "    d2 = (np.log(B /((K * S_t)/B)) + ((r - D) - (np.power(sigma,2)/ 2) * T )) / (sigma * np.sqrt(T))\n",
    "    \n",
    "    \n",
    "    gamma = 1 - 2 * ((r - D)/(sigma ** 2))\n",
    "    \n",
    "    \n",
    "    return np.power((S_t / B), gamma) * Binary_Call(B,((K * S_t)/B),T,r,sigma,D)"
   ]
  },
  {
   "cell_type": "code",
   "execution_count": 5,
   "id": "e9d0dff0",
   "metadata": {},
   "outputs": [],
   "source": [
    "def Reverse_Bin_DIC(S_t,K,T,r,sigma,D,B) : \n",
    "    \n",
    "    d1 = (np.log(B /((K * S_t)/B)) + ((r - D) + (np.power(sigma,2)/ 2) * T )) / (sigma * np.sqrt(T))\n",
    "    d2 = (np.log(B /((K * S_t)/B)) + ((r - D) - (np.power(sigma,2)/ 2) * T )) / (sigma * np.sqrt(T))\n",
    "    \n",
    "    \n",
    "    return Binary_Call(S_t,K,T,r,sigma,D) - np.exp(-r * T) + Binary_Put(S_t,K,T,r,sigma,D) + Regular_Bin_DIC(S_t,B,T,r,sigma,D,B)"
   ]
  },
  {
   "cell_type": "code",
   "execution_count": 6,
   "id": "0c39fb16",
   "metadata": {},
   "outputs": [],
   "source": [
    "def Call(S_t,K,T,r,sigma,D):\n",
    "    \n",
    "    d1 = (np.log(S_t / K) + ((r - D) + (np.power(sigma,2)/ 2) * T )) / (sigma * np.sqrt(T))  \n",
    "    d2 = (np.log(S_t / K) + ((r - D) - (np.power(sigma,2)/ 2) * T )) / (sigma * np.sqrt(T))\n",
    "    \n",
    "    \n",
    "    return S_t * np.exp(-D * T) * norm.cdf(d1) - K * np.exp(-r * T) * norm.cdf(d2)"
   ]
  },
  {
   "cell_type": "code",
   "execution_count": 7,
   "id": "35b93d6a",
   "metadata": {},
   "outputs": [],
   "source": [
    " def Regular_DIC(S_t,K,T,r,sigma,D,B):\n",
    "        \n",
    "        d1 = (np.log(B /((K * S_t)/B)) + ((r - D) + (np.power(sigma,2)/ 2) * T )) / (sigma * np.sqrt(T))\n",
    "        d2 = (np.log(B /((K * S_t)/B)) + ((r - D) - (np.power(sigma,2)/ 2) * T )) / (sigma * np.sqrt(T))\n",
    "        \n",
    "        \n",
    "        if (r == D):\n",
    "            \n",
    "            if (S_t < B or S_t == B):\n",
    "                \n",
    "                return Call(S_t,K,T,r,sigma,D)\n",
    "            \n",
    "            else:\n",
    "                \n",
    "                return B * np.exp(-D * T) * norm.cdf(d1) - ((K * S_t)/B) * np.exp(-r * T) * norm.cdf(d2)\n",
    "            \n",
    "        else :\n",
    "            \n",
    "            if (S_t < B or S_t == B):\n",
    "                \n",
    "                return Call(S_t,K,T,r,sigma,D)\n",
    "            \n",
    "            \n",
    "            else : \n",
    "                \n",
    "                temp = B * np.exp(-D * T) * norm.cdf(d1) - ((K * S_t)/B) * np.exp(-r * T) * norm.cdf(d2)\n",
    "                \n",
    "                gamma = 1 - 2 * ((r - D)/(sigma ** 2))\n",
    "                \n",
    "                return np.power((S_t / B), (gamma - 1)) * temp "
   ]
  },
  {
   "cell_type": "code",
   "execution_count": 8,
   "id": "1c67e252",
   "metadata": {},
   "outputs": [],
   "source": [
    "def Reverse_DIC(S_t,K,T,r,sigma,D,B):\n",
    "    \n",
    "    return Call(S_t,K,T,r,sigma,D) - Call(S_t,B,T,r,sigma,D) - (D - K) * Binary_Call(S_t,B,T,r,sigma,D) + Regular_DIC(S_t,B,T,r,sigma,D,B) + (D - K) * Regular_Bin_DIC(S_t,B,T,r,sigma,D,B)"
   ]
  },
  {
   "cell_type": "code",
   "execution_count": 9,
   "id": "c7c96538",
   "metadata": {},
   "outputs": [],
   "source": [
    "def Reverse_DOC(S_t,K,T,r,sigma,D,B):\n",
    "    \n",
    "    return Call(S_t,K,T,r,sigma,D) - Reverse_DIC(S_t,K,T,r,sigma,D,B)"
   ]
  },
  {
   "cell_type": "code",
   "execution_count": 10,
   "id": "f252d7c2",
   "metadata": {},
   "outputs": [],
   "source": [
    "import math\n",
    "def combos(n, i):\n",
    "    return math.factorial(n) / (math.factorial(n-i)*math.factorial(i))"
   ]
  },
  {
   "cell_type": "code",
   "execution_count": 52,
   "id": "871504af",
   "metadata": {},
   "outputs": [],
   "source": [
    "N = 100\n",
    "S0  = 100\n",
    "T = 1\n",
    "sigma = 0.2\n",
    "K = 105\n",
    "r = 0.05\n",
    "\n",
    "def Continous_Binomial_Option_Pricing(S0, K , T, r, sigma, N, type_ = 'call'):\n",
    "    dt = T/N\n",
    "    u = np.exp(sigma * np.sqrt(dt))\n",
    "    d = np.exp(-sigma * np.sqrt(dt))\n",
    "    p = (  np.exp(r*dt) - d )  /  (  u - d )\n",
    "    value = 0 \n",
    "    for i in range(N+1):\n",
    "        node_prob = combos(N, i)*p**i*(1-p)**(N-i)\n",
    "        ST = S0*(u)**i*(d)**(N-i)\n",
    "        if type_ == 'call':\n",
    "            value += max(ST-K,0) * node_prob\n",
    "        elif type_ == 'put':\n",
    "            value += max(K-ST, 0)*node_prob\n",
    "        else:\n",
    "            raise ValueError(\"type_ must be 'call' or 'put'\" )\n",
    "    \n",
    "    return value*np.exp(-r*T)"
   ]
  },
  {
   "cell_type": "code",
   "execution_count": 53,
   "id": "a8e38dd1",
   "metadata": {},
   "outputs": [],
   "source": [
    "def ExchangeOption(X_t,Y_t,D_x,D_y,sigma_x,sigma_y,rho_xy,T):\n",
    "    \n",
    "    import numpy as np\n",
    "    from scipy.stats import norm\n",
    "    \n",
    "    sigma = np.sqrt(np.power(sigma_x,2) - 2 * rho_xy * sigma_x * sigma_x + np.power(sigma_y,2))\n",
    "    \n",
    "    d_1 = (np.log(X_t/Y_t) + ((D_y - D_x + ((1/2) * np.power(sigma,2))) * (T))) / (sigma * np.sqrt(T))\n",
    "    \n",
    "    d_2 = (np.log(X_t/Y_t) + ((D_y - D_x - ((1/2) * np.power(sigma,2))) * (T))) / (sigma * np.sqrt(T))\n",
    "    \n",
    "    \n",
    "    return X_t * np.exp(-D_x * T) * norm.cdf(d_1) - Y_t * np.exp(-D_y * T) * norm.cdf(d_2)"
   ]
  },
  {
   "cell_type": "code",
   "execution_count": 54,
   "id": "6c377e1d",
   "metadata": {},
   "outputs": [],
   "source": [
    "N = 2\n",
    "S0  = 100.820000\n",
    "T = 1\n",
    "K = 100.820000\n",
    "r = 0.005000\n",
    "\n",
    "def Continous_Binomial_Option_Pricing(S0, K , T, r, N, type_ = 'call'):\n",
    "    dt = T/N\n",
    "    u = 1.600000\n",
    "    d = 1.710000\n",
    "    p = (  np.exp(r*dt) - d )  /  (  u - d )\n",
    "    value = 0 \n",
    "    for i in range(N+1):\n",
    "        node_prob = combos(N, i)*p**i*(1-p)**(N-i)\n",
    "        ST = S0*(u)**i*(d)**(N-i)\n",
    "        if type_ == 'call':\n",
    "            value += max(ST-K,0) * node_prob\n",
    "        elif type_ == 'put':\n",
    "            value += max(K-ST, 0)*node_prob\n",
    "        else:\n",
    "            raise ValueError(\"type_ must be 'call' or 'put'\" )\n",
    "    \n",
    "    return value*np.exp(-r*T)"
   ]
  },
  {
   "cell_type": "code",
   "execution_count": 55,
   "id": "e4295dd1",
   "metadata": {},
   "outputs": [
    {
     "data": {
      "text/plain": [
       "0.5028418477928512"
      ]
     },
     "execution_count": 55,
     "metadata": {},
     "output_type": "execute_result"
    }
   ],
   "source": [
    "Continous_Binomial_Option_Pricing(S0,K,T,r,N,'call')"
   ]
  },
  {
   "cell_type": "code",
   "execution_count": 76,
   "id": "8c4d7659",
   "metadata": {},
   "outputs": [
    {
     "name": "stdout",
     "output_type": "stream",
     "text": [
      "Le prix de l'option est : 8.026229025058432\n"
     ]
    }
   ],
   "source": [
    "import math\n",
    "\n",
    "def binomial_model(S, K, r, T, sigma, N, option_type):\n",
    "    \"\"\"\n",
    "    Fonction pour calculer le prix d'une option européenne avec le modèle binomial\n",
    "\n",
    "    Arguments :\n",
    "    S : float, prix actuel du sous-jacent\n",
    "    K : float, prix d'exercice de l'option\n",
    "    r : float, taux d'intérêt sans risque\n",
    "    T : float, durée jusqu'à l'échéance de l'option (en années)\n",
    "    sigma : float, volatilité du sous-jacent\n",
    "    N : int, nombre de périodes de l'arbre binomial\n",
    "    option_type : str, \"call\" pour une option d'achat, \"put\" pour une option de vente\n",
    "\n",
    "    Retour :\n",
    "    float, le prix de l'option\n",
    "    \"\"\"\n",
    "    dt = T / N  # taille d'un intervalle de temps\n",
    "    u = math.exp(sigma * math.sqrt(dt))  # facteur d'augmentation\n",
    "    d = 1 / u  # facteur de diminution\n",
    "    p = (math.exp(r * dt) - d) / (u - d)  # probabilité risque neutre\n",
    "\n",
    "    # Calcul des prix finaux de l'option\n",
    "    stock_prices = []\n",
    "    if option_type == \"call\":\n",
    "        for i in range(N+1):\n",
    "            stock_prices.append(max(S * u**(N-i) * d**i - K, 0))\n",
    "    elif option_type == \"put\":\n",
    "        for i in range(N+1):\n",
    "            stock_prices.append(max(K - S * u**(N-i) * d**i, 0))\n",
    "\n",
    "    # Calcul des prix à chaque étape de l'arbre\n",
    "    for i in range(N-1, -1, -1):\n",
    "        for j in range(i+1):\n",
    "            stock_prices[j] = math.exp(-r*dt) * (p*stock_prices[j] + (1-p)*stock_prices[j+1])\n",
    "\n",
    "    return stock_prices[0]\n",
    "\n",
    "# Exemple d'utilisation :\n",
    "S = 100  # prix actuel du sous-jacent\n",
    "K = 105  # prix d'exercice de l'option\n",
    "r = 0.05  # taux d'intérêt sans risque\n",
    "T = 1  # durée jusqu'à l'échéance de l'option (en années)\n",
    "sigma = 0.2  # volatilité du sous-jacent\n",
    "N = 100  # nombre de périodes de l'arbre binomial\n",
    "option_type = \"call\"  # type d'option (call ou put)\n",
    "\n",
    "option_price = binomial_model(S, K, r, T, sigma, N, option_type)\n",
    "\n",
    "print(\"Le prix de l'option est :\", option_price)"
   ]
  },
  {
   "cell_type": "code",
   "execution_count": null,
   "id": "5b5fd04f",
   "metadata": {},
   "outputs": [],
   "source": []
  }
 ],
 "metadata": {
  "kernelspec": {
   "display_name": "Python 3 (ipykernel)",
   "language": "python",
   "name": "python3"
  },
  "language_info": {
   "codemirror_mode": {
    "name": "ipython",
    "version": 3
   },
   "file_extension": ".py",
   "mimetype": "text/x-python",
   "name": "python",
   "nbconvert_exporter": "python",
   "pygments_lexer": "ipython3",
   "version": "3.8.13"
  }
 },
 "nbformat": 4,
 "nbformat_minor": 5
}
