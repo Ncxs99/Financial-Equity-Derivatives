{
 "cells": [
  {
   "cell_type": "code",
   "execution_count": 1,
   "id": "5f0e5f62",
   "metadata": {},
   "outputs": [],
   "source": [
    "import numpy as np\n",
    "from scipy.stats import norm\n",
    "from math import pi"
   ]
  },
  {
   "cell_type": "code",
   "execution_count": null,
   "id": "3b36dc30",
   "metadata": {},
   "outputs": [],
   "source": [
    "class Black_Scholes_Merton_Exotics(Black_Scholes_Merton):\n",
    "    \n",
    "    def __init__(self,S_t,K,T,sigma,r,D,n):\n",
    "        \n",
    "        Black_Scholes_Merton.__init__(self,S_t,K,T,sigma,r,D)\n",
    "        self.n = n \n",
    "        \n",
    "        self.d_1 = ((np.log(self.S_t / (np.power(self.K,1/self.n)))) + ((self.r - self.D) + ((self.n - 1/2) * np.power(self.sigma,2)) * self.T )) / (self.sigma * np.sqrt(self.T))  \n",
    "        self.d_2 = self.d_1 - self.n * self.sigma * np.sqrt(self.T)\n",
    "        \n",
    "    \n",
    "    def PowerOptionCall(self):\n",
    "        \n",
    "        return (np.power(self.S_t, self.n) * np.exp(- self.n * self.D * self.T) * norm.cdf(self.d_1)) - self.K * np.exp(- self.n * (self.r + ((1/2) * (self.n - 1) * np.power(self.sigma,2))) * self.T) * norm.cdf(self.d_2)\n",
    "    \n",
    "    \n",
    "    def PowerOptionPut(self):\n",
    "        \n",
    "        call = self.PowerOptionCall()\n",
    "        \n",
    "        \n",
    "        return call - self.S_t * np.exp(- self.D * self.T) + self.K * np.exp(-self.r * self.T)\n",
    "    \n",
    "    \n",
    "    \n",
    "    def Asset_Or_Nothing_Call(self):\n",
    "        \n",
    "        return self.S_t * np.exp(-self.D * self.T) * norm.cdf(self.d1)\n",
    "    \n",
    "    \n",
    "    \n",
    "    def Asset_Or_Nothing_Put(self):\n",
    "        \n",
    "        return self.S_t * np.exp(-self.D * self.T) * norm.cdf(-self.d1)\n",
    "    \n",
    "    \n",
    "    \n",
    "    def Digital_Call(self):\n",
    "        \n",
    "        return np.exp(-self.r * self.T) * norm.cdf(self.d2)\n",
    "    \n",
    "    \n",
    "    def Digital_Put(self):\n",
    "        \n",
    "        return np.exp(-self.r * self.T) * norm.cdf(-self.d2)       "
   ]
  }
 ],
 "metadata": {
  "kernelspec": {
   "display_name": "Python 3 (ipykernel)",
   "language": "python",
   "name": "python3"
  },
  "language_info": {
   "codemirror_mode": {
    "name": "ipython",
    "version": 3
   },
   "file_extension": ".py",
   "mimetype": "text/x-python",
   "name": "python",
   "nbconvert_exporter": "python",
   "pygments_lexer": "ipython3",
   "version": "3.8.13"
  }
 },
 "nbformat": 4,
 "nbformat_minor": 5
}
