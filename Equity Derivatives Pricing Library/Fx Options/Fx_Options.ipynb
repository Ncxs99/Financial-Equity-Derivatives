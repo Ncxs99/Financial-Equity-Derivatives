{
 "cells": [
  {
   "cell_type": "code",
   "execution_count": 1,
   "id": "c6046d4b",
   "metadata": {},
   "outputs": [],
   "source": [
    "import numpy as np\n",
    "from scipy.stats import norm\n",
    "from math import pi"
   ]
  },
  {
   "cell_type": "code",
   "execution_count": 2,
   "id": "5bc465c2",
   "metadata": {},
   "outputs": [],
   "source": [
    "class FXOptions:\n",
    "    \n",
    "    def __init__(self,S_t,X_t,K,rd,rf,sigma_s,D_s,T,sigma_x,rho,X_quanto):\n",
    "        self.S_t = S_t\n",
    "        self.X_t = X_t\n",
    "        self.K = K\n",
    "        self.rd = rd\n",
    "        self.rf = rf\n",
    "        self.sigma_s = sigma_s\n",
    "        self.sigma_x = sigma_x\n",
    "        self.D_s = D_s\n",
    "        self.T = T\n",
    "        self.X_quanto = X_quanto\n",
    "        self.rho = rho\n",
    "        \n",
    "        \n",
    "    def Foreign_Equity_Call_Struck_In_Foreign_Currency(self):\n",
    "        \n",
    "        d_1 = (np.log(self.S_t / self.K) + ((self.rf - self.D_s) + (np.power(self.sigma_s,2)/ 2) * self.T )) / (self.sigma_s * np.sqrt(self.T))\n",
    "        d_2 = (np.log(self.S_t / self.K) + ((self.rf - self.D_s) - (np.power(self.sigma_s,2)/ 2) * self.T )) / (self.sigma_s * np.sqrt(self.T))\n",
    "        \n",
    "        return self.X_t * (self.S_t * np.exp(-self.D_s * self.T) * norm.cdf(d_1) - self.K * np.exp(-self.rf * self.T) * norm.cdf(d_2))\n",
    "    \n",
    "    \n",
    "    \n",
    "    def Foreign_Equity_Call_Struck_In_Domestic_Currency_or_Compo(self):\n",
    "        \n",
    "        \n",
    "        sigma_g = np.sqrt(np.power(self.sigma_x,2) + 2 * self.rho * self.sigma_x * self.sigma_s + np.power(self.sigma_s,2))\n",
    "        \n",
    "        d_1 = (np.log((self.X_t * self.S_t) / self.K) + ((self.rd - self.D_s) + (np.power(sigma_g,2)/ 2) * self.T )) / (sigma_g * np.sqrt(self.T))\n",
    "        \n",
    "        d_2 = (np.log((self.X_t * self.S_t) / self.K) + ((self.rd - self.D_s) - (np.power(sigma_g,2)/ 2) * self.T )) / (sigma_g * np.sqrt(self.T))\n",
    "        \n",
    "        \n",
    "        return (self.X_t * self.S_t) * np.exp(-self.D_s * self.T) * norm.cdf(d_1) - self.K * np.exp(-self.rd * self.T) * norm.cdf(d_2)\n",
    "    \n",
    "    \n",
    "    def Fixed_Foreign_Equity_Rate_call_or_Quanto(self):\n",
    "        \n",
    "        D_h = self.rd - self.rf + self.D_s * self.rho * self.sigma_x * self.sigma_s\n",
    "        \n",
    "        d_1 = (np.log(self.S_t / self.K) + ((self.rd - D_h) + (np.power(self.sigma_s,2)/ 2) * self.T )) / (self.sigma_s * np.sqrt(self.T))\n",
    "        \n",
    "        d_2 = (np.log(self.S_t / self.K) + ((self.rd - D_h) - (np.power(self.sigma_s,2)/ 2) * self.T )) / (self.sigma_s * np.sqrt(self.T))\n",
    "        \n",
    "        return self.X_quanto * (self.S_t * np.exp(-D_h * self.T) * norm.cdf(d_1) - self.K * np.exp(-self.rd * self.T) * norm.cdf(d_2))\n",
    "    \n",
    "    \n",
    "    def Equity_Linked_Foreign_Exchange_Call_or_Elf_X_or_Fx_Option_Denoted_in_Domestic_Currency(self):\n",
    "        \n",
    "        r_u = self.rd - self.rf + self.D_s * self.rho * self.sigma_x * self.sigma_s\n",
    "        \n",
    "        d_1 = (np.log(self.X_t / self.K) + ((r_u - self.D_s) + (np.power(self.sigma_x,2)/ 2) * self.T )) / (self.sigma_x * np.sqrt(self.T))\n",
    "        \n",
    "        d_2 = (np.log(self.X_t / self.K) + ((r_u - self.D_s) - (np.power(self.sigma_x,2)/ 2) * self.T )) / (self.sigma_x * np.sqrt(self.T))\n",
    "        \n",
    "        \n",
    "        return self.S_t * (self.X_t * np.exp(-self.D_s * self.T * norm.cdf(d_1)) - self.K * np.exp(-r_u * self.T) * norm.cdf(d_2))\n",
    "    \n",
    "    \n",
    "    def shoot_display(self):\n",
    "        \n",
    "        import pandas as pd\n",
    "        \n",
    "        return pd.DataFrame(data={'Valeur_Foreign_Equity_Call_Struck_In_Foreign_Currency':[self.Equity_Linked_Foreign_Exchange_Call_or_Elf_X_or_Fx_Option_Denoted_in_Domestic_Currency()],\n",
    "                                 'Valeur_Fixed_Foreign_Equity_Rate_call_or_Quanto()':[self.Fixed_Foreign_Equity_Rate_call_or_Quanto()],\n",
    "                                 'Delta_Foreign_Equity_Call_Struck_In_Domestic_Currency_or_Compo()':[self.Foreign_Equity_Call_Struck_In_Domestic_Currency_or_Compo()],\n",
    "                                 'Delta_Foreign_Equity_Call_Struck_In_Foreign_Currency()':[self.Foreign_Equity_Call_Struck_In_Foreign_Currency()]}).T.rename(columns={0:'Valeurs'})"
   ]
  },
  {
   "cell_type": "code",
   "execution_count": 3,
   "id": "49c9017d",
   "metadata": {},
   "outputs": [],
   "source": [
    "option = FXOptions(100,0.20,75,0.3,0.1,0.4,0.05,1,0.25,0.80,0.45)"
   ]
  },
  {
   "cell_type": "code",
   "execution_count": 4,
   "id": "bc445780",
   "metadata": {},
   "outputs": [
    {
     "data": {
      "text/html": [
       "<div>\n",
       "<style scoped>\n",
       "    .dataframe tbody tr th:only-of-type {\n",
       "        vertical-align: middle;\n",
       "    }\n",
       "\n",
       "    .dataframe tbody tr th {\n",
       "        vertical-align: top;\n",
       "    }\n",
       "\n",
       "    .dataframe thead th {\n",
       "        text-align: right;\n",
       "    }\n",
       "</style>\n",
       "<table border=\"1\" class=\"dataframe\">\n",
       "  <thead>\n",
       "    <tr style=\"text-align: right;\">\n",
       "      <th></th>\n",
       "      <th>Valeurs</th>\n",
       "    </tr>\n",
       "  </thead>\n",
       "  <tbody>\n",
       "    <tr>\n",
       "      <th>Valeur_Foreign_Equity_Call_Struck_In_Foreign_Currency</th>\n",
       "      <td>20.000000</td>\n",
       "    </tr>\n",
       "    <tr>\n",
       "      <th>Valeur_Fixed_Foreign_Equity_Rate_call_or_Quanto()</th>\n",
       "      <td>12.769980</td>\n",
       "    </tr>\n",
       "    <tr>\n",
       "      <th>Delta_Foreign_Equity_Call_Struck_In_Domestic_Currency_or_Compo()</th>\n",
       "      <td>0.327206</td>\n",
       "    </tr>\n",
       "    <tr>\n",
       "      <th>Delta_Foreign_Equity_Call_Struck_In_Foreign_Currency()</th>\n",
       "      <td>6.157756</td>\n",
       "    </tr>\n",
       "  </tbody>\n",
       "</table>\n",
       "</div>"
      ],
      "text/plain": [
       "                                                      Valeurs\n",
       "Valeur_Foreign_Equity_Call_Struck_In_Foreign_Cu...  20.000000\n",
       "Valeur_Fixed_Foreign_Equity_Rate_call_or_Quanto()   12.769980\n",
       "Delta_Foreign_Equity_Call_Struck_In_Domestic_Cu...   0.327206\n",
       "Delta_Foreign_Equity_Call_Struck_In_Foreign_Cur...   6.157756"
      ]
     },
     "execution_count": 4,
     "metadata": {},
     "output_type": "execute_result"
    }
   ],
   "source": [
    "option.shoot_display()"
   ]
  },
  {
   "cell_type": "code",
   "execution_count": null,
   "id": "459333e4",
   "metadata": {},
   "outputs": [],
   "source": []
  }
 ],
 "metadata": {
  "kernelspec": {
   "display_name": "Python 3 (ipykernel)",
   "language": "python",
   "name": "python3"
  },
  "language_info": {
   "codemirror_mode": {
    "name": "ipython",
    "version": 3
   },
   "file_extension": ".py",
   "mimetype": "text/x-python",
   "name": "python",
   "nbconvert_exporter": "python",
   "pygments_lexer": "ipython3",
   "version": "3.8.13"
  }
 },
 "nbformat": 4,
 "nbformat_minor": 5
}
