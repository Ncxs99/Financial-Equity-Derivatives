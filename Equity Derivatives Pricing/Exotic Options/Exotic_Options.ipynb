{
 "cells": [
  {
   "cell_type": "code",
   "execution_count": 1,
   "id": "5f0e5f62",
   "metadata": {},
   "outputs": [],
   "source": [
    "import numpy as np\n",
    "from scipy.stats import norm\n",
    "from math import pi\n",
    "%run Europea_Options.ipynb"
   ]
  },
  {
   "cell_type": "code",
   "execution_count": 2,
   "id": "3b36dc30",
   "metadata": {},
   "outputs": [],
   "source": [
    "class Exotics(Black_Scholes_Merton):\n",
    "    \n",
    "    def __init__(self,S_t,K,T,sigma,r,D,n):\n",
    "        \n",
    "        Black_Scholes_Merton.__init__(self,S_t,K,T,sigma,r,D)\n",
    "        self.n = n \n",
    "        \n",
    "        self.d_1 = ((np.log(self.S_t / (np.power(self.K,1/self.n)))) + ((self.r - self.D) + ((self.n - 1/2) * np.power(self.sigma,2)) * self.T )) / (self.sigma * np.sqrt(self.T))  \n",
    "        self.d_2 = self.d_1 - self.n * self.sigma * np.sqrt(self.T)\n",
    "        \n",
    "    \n",
    "    def PowerOptionCall(self):\n",
    "        \n",
    "        return (np.power(self.S_t, self.n) * np.exp(- self.n * self.D * self.T) * norm.cdf(self.d_1)) - self.K * np.exp(- self.n * (self.r + ((1/2) * (self.n - 1) * np.power(self.sigma,2))) * self.T) * norm.cdf(self.d_2)\n",
    "    \n",
    "    \n",
    "    def PowerOptionPut(self):\n",
    "        \n",
    "        call = self.PowerOptionCall()\n",
    "        \n",
    "        \n",
    "        return call - self.S_t * np.exp(- self.D * self.T) + self.K * np.exp(-self.r * self.T)\n",
    "    \n",
    "    \n",
    "    \n",
    "    def Asset_Or_Nothing_Call(self):\n",
    "        \n",
    "        return self.S_t * np.exp(-self.D * self.T) * norm.cdf(self.d1)\n",
    "    \n",
    "    \n",
    "    \n",
    "    def Asset_Or_Nothing_Put(self):\n",
    "        \n",
    "        return self.S_t * np.exp(-self.D * self.T) * norm.cdf(-self.d1)\n",
    "    \n",
    "    \n",
    "    \n",
    "    def Digital_Call(self):\n",
    "        \n",
    "        return np.exp(-self.r * self.T) * norm.cdf(self.d2)\n",
    "    \n",
    "    \n",
    "    def Digital_Put(self):\n",
    "        \n",
    "        return np.exp(-self.r * self.T) * norm.cdf(-self.d2) \n",
    "    \n",
    "    \n",
    "    \n",
    "    def shoot_display(self):\n",
    "        \n",
    "        import pandas as pd\n",
    "        \n",
    "        return pd.DataFrame(data={'Valeur_PowerOptionCall':[self.PowerOptionCall()],\n",
    "                                 'Valeur_PowerOptionPut':[self.PowerOptionPut()],\n",
    "                                 'Valeur_Asset_Or_Nothing_Call':[self.Asset_Or_Nothing_Call()],\n",
    "                                 'Valeur_Asset_Or_Nothing_Put':[self.Asset_Or_Nothing_Put()],\n",
    "                                 'Valeur_Digital_Call':[self.Digital_Call()],\n",
    "                                 'Valeur_Digital_Put':[self.Digital_Put()]}).T.rename(columns={0:'Valeurs'})"
   ]
  },
  {
   "cell_type": "code",
   "execution_count": 3,
   "id": "c6927354",
   "metadata": {},
   "outputs": [],
   "source": [
    "option = Exotics(100,75,1,0.3,0.2,0.1,2)"
   ]
  },
  {
   "cell_type": "code",
   "execution_count": 4,
   "id": "489ca4b2",
   "metadata": {},
   "outputs": [
    {
     "data": {
      "text/html": [
       "<div>\n",
       "<style scoped>\n",
       "    .dataframe tbody tr th:only-of-type {\n",
       "        vertical-align: middle;\n",
       "    }\n",
       "\n",
       "    .dataframe tbody tr th {\n",
       "        vertical-align: top;\n",
       "    }\n",
       "\n",
       "    .dataframe thead th {\n",
       "        text-align: right;\n",
       "    }\n",
       "</style>\n",
       "<table border=\"1\" class=\"dataframe\">\n",
       "  <thead>\n",
       "    <tr style=\"text-align: right;\">\n",
       "      <th></th>\n",
       "      <th>Valeurs</th>\n",
       "    </tr>\n",
       "  </thead>\n",
       "  <tbody>\n",
       "    <tr>\n",
       "      <th>Valeur_PowerOptionCall</th>\n",
       "      <td>8141.360551</td>\n",
       "    </tr>\n",
       "    <tr>\n",
       "      <th>Valeur_PowerOptionPut</th>\n",
       "      <td>8112.281616</td>\n",
       "    </tr>\n",
       "    <tr>\n",
       "      <th>Valeur_Asset_Or_Nothing_Call</th>\n",
       "      <td>83.732514</td>\n",
       "    </tr>\n",
       "    <tr>\n",
       "      <th>Valeur_Asset_Or_Nothing_Put</th>\n",
       "      <td>6.751228</td>\n",
       "    </tr>\n",
       "    <tr>\n",
       "      <th>Valeur_Digital_Call</th>\n",
       "      <td>0.715022</td>\n",
       "    </tr>\n",
       "    <tr>\n",
       "      <th>Valeur_Digital_Put</th>\n",
       "      <td>0.103709</td>\n",
       "    </tr>\n",
       "  </tbody>\n",
       "</table>\n",
       "</div>"
      ],
      "text/plain": [
       "                                  Valeurs\n",
       "Valeur_PowerOptionCall        8141.360551\n",
       "Valeur_PowerOptionPut         8112.281616\n",
       "Valeur_Asset_Or_Nothing_Call    83.732514\n",
       "Valeur_Asset_Or_Nothing_Put      6.751228\n",
       "Valeur_Digital_Call              0.715022\n",
       "Valeur_Digital_Put               0.103709"
      ]
     },
     "execution_count": 4,
     "metadata": {},
     "output_type": "execute_result"
    }
   ],
   "source": [
    "option.shoot_display()"
   ]
  },
  {
   "cell_type": "code",
   "execution_count": null,
   "id": "5b2b41c5",
   "metadata": {},
   "outputs": [],
   "source": []
  }
 ],
 "metadata": {
  "kernelspec": {
   "display_name": "Python 3 (ipykernel)",
   "language": "python",
   "name": "python3"
  },
  "language_info": {
   "codemirror_mode": {
    "name": "ipython",
    "version": 3
   },
   "file_extension": ".py",
   "mimetype": "text/x-python",
   "name": "python",
   "nbconvert_exporter": "python",
   "pygments_lexer": "ipython3",
   "version": "3.8.13"
  }
 },
 "nbformat": 4,
 "nbformat_minor": 5
}
